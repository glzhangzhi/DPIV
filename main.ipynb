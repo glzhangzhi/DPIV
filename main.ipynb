{
 "cells": [
  {
   "cell_type": "code",
   "execution_count": 2,
   "metadata": {},
   "outputs": [],
   "source": [
    "from components import *\n",
    "from pathlib import Path\n",
    "\n",
    "# path_mat = Path('example_data/rankine_vortex/rankine_vortex_run01_validation.mat')\n",
    "path_mat = Path('./dataset/rankine_vortex_run01_validation.pkl')\n",
    "\n",
    "u, v = get_velocity_field(path_mat, 5)\n",
    "\n",
    "image1, image2 = generate_frame_pair(u, v)\n",
    "\n",
    "image1.save('./output/1.png')\n",
    "image2.save('./output/2.png')"
   ]
  }
 ],
 "metadata": {
  "kernelspec": {
   "display_name": "Python 3",
   "language": "python",
   "name": "python3"
  },
  "language_info": {
   "codemirror_mode": {
    "name": "ipython",
    "version": 3
   },
   "file_extension": ".py",
   "mimetype": "text/x-python",
   "name": "python",
   "nbconvert_exporter": "python",
   "pygments_lexer": "ipython3",
   "version": "3.10.4"
  },
  "orig_nbformat": 4
 },
 "nbformat": 4,
 "nbformat_minor": 2
}
