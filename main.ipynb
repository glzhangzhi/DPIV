{
 "cells": [
  {
   "cell_type": "code",
   "execution_count": 5,
   "metadata": {},
   "outputs": [],
   "source": [
    "from components import *\n",
    "from pathlib import Path\n",
    "\n",
    "path_dataset = Path('./dataset')\n",
    "\n",
    "output_dir = Path('./output')\n",
    "output_dir.mkdir(exist_ok=True)\n",
    "\n",
    "for path_pkl in path_dataset.rglob('*.pkl'):\n",
    "\n",
    "    name = path_pkl.stem\n",
    "\n",
    "    for k in [1, 2, 3, 4, 5]:\n",
    "\n",
    "        u, v = get_velocity_field(path_pkl, k)\n",
    "\n",
    "        image1, image2 = generate_frame_pair(u, v)\n",
    "\n",
    "        image1.save(f'./output/{name}-{k}-before.png')\n",
    "        image2.save(f'./output/{name}-{k}-after.png')"
   ]
  }
 ],
 "metadata": {
  "kernelspec": {
   "display_name": "Python 3",
   "language": "python",
   "name": "python3"
  },
  "language_info": {
   "codemirror_mode": {
    "name": "ipython",
    "version": 3
   },
   "file_extension": ".py",
   "mimetype": "text/x-python",
   "name": "python",
   "nbconvert_exporter": "python",
   "pygments_lexer": "ipython3",
   "version": "3.10.4"
  },
  "orig_nbformat": 4
 },
 "nbformat": 4,
 "nbformat_minor": 2
}
