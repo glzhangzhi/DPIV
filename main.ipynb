{
 "cells": [
  {
   "cell_type": "code",
   "execution_count": null,
   "metadata": {},
   "outputs": [],
   "source": [
    "from components import *\n",
    "from pathlib import Path"
   ]
  },
  {
   "cell_type": "code",
   "execution_count": null,
   "metadata": {},
   "outputs": [],
   "source": [
    "path_raw_data = Path('SOFTX_2020_33/out/Bits08')\n",
    "\n",
    "for raw_data in path_raw_data.rglob('*.mat'):\n",
    "    \n",
    "    convert_mat2pkl(raw_data)"
   ]
  },
  {
   "cell_type": "code",
   "execution_count": null,
   "metadata": {},
   "outputs": [],
   "source": [
    "path_dataset = Path('./dataset')\n",
    "\n",
    "output_dir = Path('./output')\n",
    "output_dir.mkdir(exist_ok=True)\n",
    "\n",
    "for path_pkl in path_dataset.rglob('*.pkl'):\n",
    "\n",
    "    name = path_pkl.stem\n",
    "\n",
    "    for k in [1, 2, 3, 4, 5]:\n",
    "\n",
    "        u, v = get_velocity_field(path_pkl, k)\n",
    "\n",
    "        image1, image2 = generate_frame_pair(u, v)\n",
    "\n",
    "        image1.save(f'./output/{name}-{k}-before.png')\n",
    "        image2.save(f'./output/{name}-{k}-after.png')"
   ]
  }
 ],
 "metadata": {
  "kernelspec": {
   "display_name": "base",
   "language": "python",
   "name": "python3"
  },
  "language_info": {
   "codemirror_mode": {
    "name": "ipython",
    "version": 3
   },
   "file_extension": ".py",
   "mimetype": "text/x-python",
   "name": "python",
   "nbconvert_exporter": "python",
   "pygments_lexer": "ipython3",
   "version": "3.9.12 (main, Apr  4 2022, 05:22:27) [MSC v.1916 64 bit (AMD64)]"
  },
  "orig_nbformat": 4,
  "vscode": {
   "interpreter": {
    "hash": "19d1d53a962d236aa061289c2ac16dc8e6d9648c89fe79f459ae9a3493bc67b4"
   }
  }
 },
 "nbformat": 4,
 "nbformat_minor": 2
}
